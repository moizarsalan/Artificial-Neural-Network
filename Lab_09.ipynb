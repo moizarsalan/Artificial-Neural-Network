{
  "nbformat": 4,
  "nbformat_minor": 0,
  "metadata": {
    "colab": {
      "provenance": [],
      "authorship_tag": "ABX9TyP7Yhix23GnBPO0D0xwLT2s",
      "include_colab_link": true
    },
    "kernelspec": {
      "name": "python3",
      "display_name": "Python 3"
    },
    "language_info": {
      "name": "python"
    }
  },
  "cells": [
    {
      "cell_type": "markdown",
      "metadata": {
        "id": "view-in-github",
        "colab_type": "text"
      },
      "source": [
        "<a href=\"https://colab.research.google.com/github/moizarsalan/Artificial-Neural-Network/blob/main/Lab_09.ipynb\" target=\"_parent\"><img src=\"https://colab.research.google.com/assets/colab-badge.svg\" alt=\"Open In Colab\"/></a>"
      ]
    },
    {
      "cell_type": "markdown",
      "source": [
        "### **Abdul Moiz Arsalan**\n",
        "\n",
        "### **B22F1086AI072**\n",
        "\n",
        "### **Lab Instructor: Mam Ammara Irfan**\n",
        "\n",
        "### **Course Instructor: Dr Arshad Iqbal**"
      ],
      "metadata": {
        "id": "zhxv4iZf1mik"
      }
    },
    {
      "cell_type": "markdown",
      "source": [
        "### **Import Libraries**"
      ],
      "metadata": {
        "id": "ecbDAEU82ei1"
      }
    },
    {
      "cell_type": "code",
      "execution_count": 17,
      "metadata": {
        "id": "_-pBTdqP_UO6"
      },
      "outputs": [],
      "source": [
        "import tensorflow as tf\n",
        "from tensorflow.keras.applications import VGG16, DenseNet121\n",
        "from tensorflow.keras.models import Model\n",
        "from tensorflow.keras.layers import Dense, Flatten, Dropout\n",
        "from tensorflow.keras.optimizers import Adam\n",
        "from tensorflow.keras.preprocessing.image import ImageDataGenerator\n",
        "from tensorflow.keras.utils import to_categorical\n",
        "from tensorflow.keras.layers import Flatten, Dense, Dropout, GlobalAveragePooling2D\n",
        "\n",
        "import numpy as np\n",
        "import matplotlib.pyplot as plt"
      ]
    },
    {
      "cell_type": "markdown",
      "source": [
        "### **Load Dataset**"
      ],
      "metadata": {
        "id": "FIGsi4a218HC"
      }
    },
    {
      "cell_type": "code",
      "source": [
        "# Load CIFAR-10 dataset\n",
        "(x_train, y_train), (x_test, y_test) = tf.keras.datasets.cifar10.load_data()\n",
        "# Normalize images (scale pixel values between 0 and 1)\n",
        "x_train, x_test = x_train / 255.0, x_test / 255.0\n",
        "# Convert labels to one-hot encoding\n",
        "y_train, y_test = to_categorical(y_train, 10), to_categorical(y_test, 10)"
      ],
      "metadata": {
        "id": "6wfToCQw_XWO"
      },
      "execution_count": 19,
      "outputs": []
    },
    {
      "cell_type": "markdown",
      "source": [
        "This code initializes an ImageDataGenerator for real-time data augmentation, applying transformations like rotation, shifting, and flipping to improve model generalization. The fit(x_train) function computes statistics (e.g., mean, std) for normalization when using featurewise_center or featurewise_std_normalization. This helps prevent overfitting by generating diverse training samples.\n",
        "\n",
        "\n",
        "\n",
        "\n",
        "\n",
        "\n",
        "\n",
        "\n"
      ],
      "metadata": {
        "id": "gXRnufHJ2DtY"
      }
    },
    {
      "cell_type": "code",
      "source": [
        "datagen = ImageDataGenerator(\n",
        "    rotation_range=15,\n",
        "    width_shift_range=0.1,\n",
        "    height_shift_range=0.1,\n",
        "    horizontal_flip=True,\n",
        "    fill_mode='nearest'\n",
        ")\n",
        "datagen.fit(x_train)"
      ],
      "metadata": {
        "id": "W9P91dLa_bap"
      },
      "execution_count": 20,
      "outputs": []
    },
    {
      "cell_type": "markdown",
      "source": [
        "### **Building Classification Model**\n",
        "\n",
        "This function builds a classification model using a pre-trained base model (e.g., VGG16 or DenseNet121). It freezes the base model's layers to retain learned features and adds a Global Average Pooling layer to reduce dimensions. A fully connected layer with 256 neurons and ReLU activation is added, followed by a dropout layer to prevent overfitting. Finally, a softmax layer is used to classify images into 10 categories, and the model is defined with the base model's input and the new output layer.\n",
        "\n",
        "\n",
        "\n",
        "\n",
        "\n",
        "\n",
        "\n",
        "\n"
      ],
      "metadata": {
        "id": "YAqY5qF22Ljk"
      }
    },
    {
      "cell_type": "code",
      "source": [
        "def build_model(base_model):\n",
        "    base_model.trainable = False  # Freeze base model layers\n",
        "\n",
        "    # Ensure we use base_model output tensor\n",
        "    x = base_model.output\n",
        "    x = GlobalAveragePooling2D()(x)  # Reduce dimensions\n",
        "    x = Dense(256, activation='relu')(x)  # Fully connected layer\n",
        "    x = Dropout(0.5)(x)  # Dropout to prevent overfitting\n",
        "    output_layer = Dense(10, activation='softmax')(x)  # Adjust number of classes\n",
        "\n",
        "    model = Model(inputs=base_model.input, outputs=output_layer)  # Correctly define the model\n",
        "    return model"
      ],
      "metadata": {
        "id": "d5gHrFXf_lEX"
      },
      "execution_count": 24,
      "outputs": []
    },
    {
      "cell_type": "markdown",
      "source": [
        "This code loads the pre-trained VGG-16 and DenseNet-121 models without their top layers and sets the input size to (32, 32, 3). It then builds custom classification models on top of them using the build_model function. Both models are compiled with the Adam optimizer, categorical cross-entropy loss, and accuracy as the evaluation metric. The models are trained using an augmented dataset (datagen.flow), running for 5 epochs with a batch size of 64. Finally, the training history is stored for both models, including validation performance on the test set."
      ],
      "metadata": {
        "id": "O7c6SxB42Nhv"
      }
    },
    {
      "cell_type": "code",
      "source": [
        "# Load VGG-16 Model\n",
        "vgg_base = VGG16(weights='imagenet', include_top=False, input_shape=(32, 32, 3))\n",
        "vgg_model = build_model(vgg_base)\n",
        "vgg_model.compile(optimizer=Adam(learning_rate=0.0001), loss='categorical_crossentropy', metrics=['accuracy'])\n",
        "\n",
        "# Load DenseNet-121 Model\n",
        "densenet_base = DenseNet121(weights='imagenet', include_top=False, input_shape=(32, 32, 3))\n",
        "densenet_model = build_model(densenet_base)\n",
        "densenet_model.compile(optimizer=Adam(learning_rate=0.0001), loss='categorical_crossentropy', metrics=['accuracy'])\n",
        "\n",
        "# Train models\n",
        "history_vgg = vgg_model.fit(datagen.flow(x_train, y_train, batch_size=64), epochs=5, validation_data=(x_test, y_test))\n",
        "history_densenet = densenet_model.fit(datagen.flow(x_train, y_train, batch_size=64), epochs=5, validation_data=(x_test, y_test))"
      ],
      "metadata": {
        "colab": {
          "base_uri": "https://localhost:8080/",
          "height": 0
        },
        "id": "Hr7Dum0k_pQN",
        "outputId": "9e370ce1-b42a-4612-b028-1cddc176ac0e"
      },
      "execution_count": 26,
      "outputs": [
        {
          "output_type": "stream",
          "name": "stdout",
          "text": [
            "Epoch 1/5\n",
            "\u001b[1m782/782\u001b[0m \u001b[32m━━━━━━━━━━━━━━━━━━━━\u001b[0m\u001b[37m\u001b[0m \u001b[1m740s\u001b[0m 945ms/step - accuracy: 0.2249 - loss: 2.1507 - val_accuracy: 0.4504 - val_loss: 1.6303\n",
            "Epoch 2/5\n",
            "\u001b[1m782/782\u001b[0m \u001b[32m━━━━━━━━━━━━━━━━━━━━\u001b[0m\u001b[37m\u001b[0m \u001b[1m758s\u001b[0m 969ms/step - accuracy: 0.3995 - loss: 1.7029 - val_accuracy: 0.4847 - val_loss: 1.4957\n",
            "Epoch 3/5\n",
            "\u001b[1m782/782\u001b[0m \u001b[32m━━━━━━━━━━━━━━━━━━━━\u001b[0m\u001b[37m\u001b[0m \u001b[1m758s\u001b[0m 970ms/step - accuracy: 0.4357 - loss: 1.5970 - val_accuracy: 0.5101 - val_loss: 1.4243\n",
            "Epoch 4/5\n",
            "\u001b[1m782/782\u001b[0m \u001b[32m━━━━━━━━━━━━━━━━━━━━\u001b[0m\u001b[37m\u001b[0m \u001b[1m758s\u001b[0m 969ms/step - accuracy: 0.4618 - loss: 1.5342 - val_accuracy: 0.5183 - val_loss: 1.3838\n",
            "Epoch 5/5\n",
            "\u001b[1m782/782\u001b[0m \u001b[32m━━━━━━━━━━━━━━━━━━━━\u001b[0m\u001b[37m\u001b[0m \u001b[1m732s\u001b[0m 936ms/step - accuracy: 0.4844 - loss: 1.4838 - val_accuracy: 0.5278 - val_loss: 1.3499\n",
            "Epoch 1/5\n",
            "\u001b[1m782/782\u001b[0m \u001b[32m━━━━━━━━━━━━━━━━━━━━\u001b[0m\u001b[37m\u001b[0m \u001b[1m266s\u001b[0m 317ms/step - accuracy: 0.2548 - loss: 2.2352 - val_accuracy: 0.5129 - val_loss: 1.4138\n",
            "Epoch 2/5\n",
            "\u001b[1m782/782\u001b[0m \u001b[32m━━━━━━━━━━━━━━━━━━━━\u001b[0m\u001b[37m\u001b[0m \u001b[1m254s\u001b[0m 307ms/step - accuracy: 0.4372 - loss: 1.5855 - val_accuracy: 0.5594 - val_loss: 1.2852\n",
            "Epoch 3/5\n",
            "\u001b[1m782/782\u001b[0m \u001b[32m━━━━━━━━━━━━━━━━━━━━\u001b[0m\u001b[37m\u001b[0m \u001b[1m239s\u001b[0m 305ms/step - accuracy: 0.4884 - loss: 1.4562 - val_accuracy: 0.5764 - val_loss: 1.2191\n",
            "Epoch 4/5\n",
            "\u001b[1m782/782\u001b[0m \u001b[32m━━━━━━━━━━━━━━━━━━━━\u001b[0m\u001b[37m\u001b[0m \u001b[1m243s\u001b[0m 311ms/step - accuracy: 0.5177 - loss: 1.3759 - val_accuracy: 0.5917 - val_loss: 1.1776\n",
            "Epoch 5/5\n",
            "\u001b[1m782/782\u001b[0m \u001b[32m━━━━━━━━━━━━━━━━━━━━\u001b[0m\u001b[37m\u001b[0m \u001b[1m243s\u001b[0m 311ms/step - accuracy: 0.5287 - loss: 1.3342 - val_accuracy: 0.6027 - val_loss: 1.1497\n"
          ]
        }
      ]
    },
    {
      "cell_type": "code",
      "source": [
        "# Evaluate performance\n",
        "vgg_loss, vgg_acc = vgg_model.evaluate(x_test, y_test)\n",
        "densenet_loss, densenet_acc = densenet_model.evaluate(x_test, y_test)\n",
        "\n",
        "print(f'VGG-16 Accuracy: {vgg_acc * 100:.2f}%')\n",
        "print(f'DenseNet-121 Accuracy: {densenet_acc * 100:.2f}%')"
      ],
      "metadata": {
        "colab": {
          "base_uri": "https://localhost:8080/",
          "height": 0
        },
        "id": "Yh5yKZBKCrAD",
        "outputId": "982c82aa-5639-4776-dced-8b2f73cd4998"
      },
      "execution_count": 28,
      "outputs": [
        {
          "output_type": "stream",
          "name": "stdout",
          "text": [
            "\u001b[1m313/313\u001b[0m \u001b[32m━━━━━━━━━━━━━━━━━━━━\u001b[0m\u001b[37m\u001b[0m \u001b[1m122s\u001b[0m 389ms/step - accuracy: 0.5258 - loss: 1.3494\n",
            "\u001b[1m313/313\u001b[0m \u001b[32m━━━━━━━━━━━━━━━━━━━━\u001b[0m\u001b[37m\u001b[0m \u001b[1m39s\u001b[0m 125ms/step - accuracy: 0.6083 - loss: 1.1371\n",
            "VGG-16 Accuracy: 52.78%\n",
            "DenseNet-121 Accuracy: 60.27%\n"
          ]
        }
      ]
    },
    {
      "cell_type": "markdown",
      "source": [
        "This code evaluates both trained models on the test dataset, calculating loss and accuracy. It then prints the accuracy of VGG-16 and DenseNet-121 as percentages."
      ],
      "metadata": {
        "id": "lFk1QvWp2Yfd"
      }
    },
    {
      "cell_type": "code",
      "source": [
        "# Plot accuracy comparison\n",
        "plt.plot(history_vgg.history['val_accuracy'], label='VGG-16')\n",
        "plt.plot(history_densenet.history['val_accuracy'], label='DenseNet-121')\n",
        "plt.xlabel('Epochs')\n",
        "plt.ylabel('Validation Accuracy')\n",
        "plt.legend()\n",
        "plt.show()"
      ],
      "metadata": {
        "colab": {
          "base_uri": "https://localhost:8080/",
          "height": 449
        },
        "id": "1u5SW9NXr3aa",
        "outputId": "aa173535-07bd-4978-e56d-78ae67be8ef9"
      },
      "execution_count": 29,
      "outputs": [
        {
          "output_type": "display_data",
          "data": {
            "text/plain": [
              "<Figure size 640x480 with 1 Axes>"
            ],
            "image/png": "[encoded data removed]"
          },
          "metadata": {}
        }
      ]
    }
  ]
}