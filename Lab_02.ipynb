{
  "nbformat": 4,
  "nbformat_minor": 0,
  "metadata": {
    "colab": {
      "provenance": [],
      "authorship_tag": "ABX9TyPo1ywtCGGOnXXj5SztZGoW",
      "include_colab_link": true
    },
    "kernelspec": {
      "name": "python3",
      "display_name": "Python 3"
    },
    "language_info": {
      "name": "python"
    }
  },
  "cells": [
    {
      "cell_type": "markdown",
      "metadata": {
        "id": "view-in-github",
        "colab_type": "text"
      },
      "source": [
        "<a href=\"https://colab.research.google.com/github/moizarsalan/Artificial-Neural-Network/blob/main/Lab_02.ipynb\" target=\"_parent\"><img src=\"https://colab.research.google.com/assets/colab-badge.svg\" alt=\"Open In Colab\"/></a>"
      ]
    },
    {
      "cell_type": "markdown",
      "source": [
        "**Name: Abdul Moiz Arsalan**\n",
        "\n",
        "**Reg_no: B22F1086AI072**\n",
        "\n",
        "**Lab Instructor: Mam Ammara Irfan**\n",
        "\n",
        "**Course Instructor: Dr Arshad Iqbal**\n",
        "\n",
        "# **Lab: 03**\n",
        "\n",
        "* Select dataset of your own choice also provide reference link of datset.\n",
        "* Apply preprocessing techniques on your dataset.\n",
        "* Remove outliers in your dataset.\n",
        "* Apply ANN model on you dataset and perform visualization.\n",
        "\n",
        "Dataset is taken from this repository of Github: https://github.com/moizarsalan/Advanced_Python_Labs/blob/main/Dataset/housing.csv"
      ],
      "metadata": {
        "id": "SnSeiroGBBti"
      }
    },
    {
      "cell_type": "markdown",
      "source": [
        "# **Loading and reading the Dataset**\n",
        "\n",
        "This Python code is used to load and display basic information about a dataset stored in a CSV file.\n",
        "\n",
        "* import pandas as pd: This imports the pandas library, which is useful for working with data in tables (like spreadsheets).\n",
        "\n",
        "* file_path = \"/content/housing.csv\": This sets the path to the dataset file named \"housing.csv\" stored on the system.\n",
        "\n",
        "* data = pd.read_csv(file_path): This reads the data from the CSV file and stores it in the variable data.\n",
        "\n",
        "* print(data.info()): This displays basic information about the dataset, such as the number of rows, columns, and the data types of each column.\n",
        "\n",
        "* print(data.head()): This shows the first few rows of the dataset, so you can get an idea of what the data looks like."
      ],
      "metadata": {
        "id": "2kstQatAB1HK"
      }
    },
    {
      "cell_type": "code",
      "execution_count": 2,
      "metadata": {
        "colab": {
          "base_uri": "https://localhost:8080/",
          "height": 0
        },
        "id": "tRthsOR8uHhY",
        "outputId": "fbe38426-62d1-4f0b-ebbf-cdeba181ddd8"
      },
      "outputs": [
        {
          "output_type": "stream",
          "name": "stdout",
          "text": [
            "<class 'pandas.core.frame.DataFrame'>\n",
            "RangeIndex: 20640 entries, 0 to 20639\n",
            "Data columns (total 10 columns):\n",
            " #   Column              Non-Null Count  Dtype  \n",
            "---  ------              --------------  -----  \n",
            " 0   longitude           20640 non-null  float64\n",
            " 1   latitude            20640 non-null  float64\n",
            " 2   housing_median_age  20640 non-null  float64\n",
            " 3   total_rooms         20640 non-null  float64\n",
            " 4   total_bedrooms      20433 non-null  float64\n",
            " 5   population          20640 non-null  float64\n",
            " 6   households          20640 non-null  float64\n",
            " 7   median_income       20640 non-null  float64\n",
            " 8   median_house_value  20640 non-null  float64\n",
            " 9   ocean_proximity     20640 non-null  object \n",
            "dtypes: float64(9), object(1)\n",
            "memory usage: 1.6+ MB\n",
            "None\n",
            "   longitude  latitude  housing_median_age  total_rooms  total_bedrooms  \\\n",
            "0    -122.23     37.88                41.0        880.0           129.0   \n",
            "1    -122.22     37.86                21.0       7099.0          1106.0   \n",
            "2    -122.24     37.85                52.0       1467.0           190.0   \n",
            "3    -122.25     37.85                52.0       1274.0           235.0   \n",
            "4    -122.25     37.85                52.0       1627.0           280.0   \n",
            "\n",
            "   population  households  median_income  median_house_value ocean_proximity  \n",
            "0       322.0       126.0         8.3252            452600.0        NEAR BAY  \n",
            "1      2401.0      1138.0         8.3014            358500.0        NEAR BAY  \n",
            "2       496.0       177.0         7.2574            352100.0        NEAR BAY  \n",
            "3       558.0       219.0         5.6431            341300.0        NEAR BAY  \n",
            "4       565.0       259.0         3.8462            342200.0        NEAR BAY  \n"
          ]
        }
      ],
      "source": [
        "import pandas as pd\n",
        "\n",
        "# Load the data set\n",
        "file_path = \"/content/housing.csv\"\n",
        "data = pd.read_csv (file_path)\n",
        "\n",
        "# Display the basic information\n",
        "print (data.info ())\n",
        "\n",
        "# Display the first few Rows\n",
        "print (data.head())"
      ]
    },
    {
      "cell_type": "markdown",
      "source": [
        "# **Handling Missing values**\n",
        "\n",
        "This Python code checks for and handles missing values in the dataset.\n",
        "\n",
        "* print(data.isnull().sum()): This checks if there are any missing (null) values in the dataset. It shows the total count of missing values in each column.\n",
        "\n",
        "* data['total_bedrooms'].fillna(data['total_bedrooms'].mean(), inplace=True): This fills any missing values in the \"total_bedrooms\" column with the mean (average) value of that column. The inplace=True argument means that the changes will be made directly to the original dataset without needing to create a new variable."
      ],
      "metadata": {
        "id": "taHJCoUXvZZ-"
      }
    },
    {
      "cell_type": "code",
      "source": [
        "# checking for missing values\n",
        "print (data.isnull ().sum ())\n",
        "\n",
        "# Filling missing values\n",
        "data ['total_bedrooms'].fillna (data ['total_bedrooms'].mean (), inplace = True)"
      ],
      "metadata": {
        "colab": {
          "base_uri": "https://localhost:8080/",
          "height": 0
        },
        "id": "9GDVYTjwvcFZ",
        "outputId": "e49f85d5-a550-4a9b-de70-b8d22deac7f2"
      },
      "execution_count": 4,
      "outputs": [
        {
          "output_type": "stream",
          "name": "stdout",
          "text": [
            "longitude               0\n",
            "latitude                0\n",
            "housing_median_age      0\n",
            "total_rooms             0\n",
            "total_bedrooms        207\n",
            "population              0\n",
            "households              0\n",
            "median_income           0\n",
            "median_house_value      0\n",
            "ocean_proximity         0\n",
            "dtype: int64\n"
          ]
        },
        {
          "output_type": "stream",
          "name": "stderr",
          "text": [
            "<ipython-input-4-439d7c2cc7b6>:5: FutureWarning: A value is trying to be set on a copy of a DataFrame or Series through chained assignment using an inplace method.\n",
            "The behavior will change in pandas 3.0. This inplace method will never work because the intermediate object on which we are setting values always behaves as a copy.\n",
            "\n",
            "For example, when doing 'df[col].method(value, inplace=True)', try using 'df.method({col: value}, inplace=True)' or df[col] = df[col].method(value) instead, to perform the operation inplace on the original object.\n",
            "\n",
            "\n",
            "  data ['total_bedrooms'].fillna (data ['total_bedrooms'].mean (), inplace = True)\n"
          ]
        }
      ]
    },
    {
      "cell_type": "markdown",
      "source": [
        "# **Encoding Categorical Variables**\n",
        "\n",
        "This Python code is used to encode categorical data into numerical values.\n",
        "\n",
        "* from sklearn.preprocessing import LabelEncoder: This imports the LabelEncoder class from the sklearn library, which is used to convert categorical (text) data into numerical labels.\n",
        "\n",
        "* label_encoder = LabelEncoder(): This creates an instance of the LabelEncoder class, which will be used for encoding the data.\n",
        "\n",
        "* data['ocean_proximity'] = label_encoder.fit_transform(data['ocean_proximity']): This line encodes the values in the \"ocean_proximity\" column. The fit_transform method converts the text values into numbers. For example, if \"ocean_proximity\" has categories like \"near\" and \"far,\" they might be converted to 0 and 1.\n",
        "\n",
        "* print(data['ocean_proximity'].unique()): This displays the unique values in the \"ocean_proximity\" column after encoding. You can see the numerical values assigned to the original categories."
      ],
      "metadata": {
        "id": "0X-WlbnMwC_O"
      }
    },
    {
      "cell_type": "code",
      "source": [
        "from sklearn.preprocessing import LabelEncoder\n",
        "\n",
        "# Encoding  ocean_proxmity column\n",
        "label_encoder = LabelEncoder ()\n",
        "data ['ocean_proximity'] = label_encoder.fit_transform (data ['ocean_proximity'])\n",
        "\n",
        "# verifying encoding\n",
        "print (data ['ocean_proximity'].unique())"
      ],
      "metadata": {
        "colab": {
          "base_uri": "https://localhost:8080/",
          "height": 0
        },
        "id": "W4T17BANwFf4",
        "outputId": "e0070be8-da9e-4364-b061-bc30ac7757c3"
      },
      "execution_count": 5,
      "outputs": [
        {
          "output_type": "stream",
          "name": "stdout",
          "text": [
            "[3 0 1 4 2]\n"
          ]
        }
      ]
    },
    {
      "cell_type": "markdown",
      "source": [
        "# **Feature Scaling**\n",
        "\n",
        "This Python code is used to scale numerical data to a standard range.\n",
        "\n",
        "* from sklearn.preprocessing import StandardScaler: This imports the StandardScaler class from the sklearn library, which is used to scale numerical data so that it has a mean of 0 and a standard deviation of 1.\n",
        "\n",
        "* num_cols = ['longitude', 'latitude', 'housing_median_age', 'total_rooms', 'total_bedrooms', 'population', 'households', 'median_income', 'median_house_value']: This defines a list of column names that contain numerical data, which will be scaled.\n",
        "\n",
        "* scaler = StandardScaler(): This creates an instance of the StandardScaler class, which will be used to scale the data.\n",
        "\n",
        "* data[num_cols] = scaler.fit_transform(data[num_cols]): This line applies the scaling transformation to the selected numerical columns. The fit_transform method calculates the scaling parameters (mean and standard deviation) from the data and then scales each value in the columns."
      ],
      "metadata": {
        "id": "bqs34oX-xUTM"
      }
    },
    {
      "cell_type": "code",
      "source": [
        "from sklearn.preprocessing import StandardScaler\n",
        "\n",
        "num_cols = ['longitude', 'latitude', 'housing_median_age', 'total_rooms', 'total_bedrooms', 'population', 'households', 'median_income', 'median_house_value']\n",
        "scaler = StandardScaler ()\n",
        "data[num_cols] = scaler.fit_transform (data[num_cols])"
      ],
      "metadata": {
        "id": "bg20Rjqb7LCI"
      },
      "execution_count": 6,
      "outputs": []
    },
    {
      "cell_type": "markdown",
      "source": [
        "# **Outlier Detection and Removal**\n",
        "\n",
        "This Python code is used to remove outliers (extreme values) from the dataset.\n",
        "\n",
        "* import numpy as np: This imports the NumPy library, which is used for working with numerical data in Python.\n",
        "\n",
        "* def remove_outliers(df, columns):: This defines a function called remove_outliers that will remove outliers from the specified columns in the dataset (df stands for the dataset and columns is a list of column names).\n",
        "\n",
        "* for col in columns:: This loop goes through each column listed in the columns list.\n",
        "\n",
        "* Q1 = df[col].quantile(0.25) and Q3 = df[col].quantile(0.75): These lines calculate the first quartile (Q1) and the third quartile (Q3) for each column. Quartiles divide the data into four equal parts.\n",
        "\n",
        "* IQR = Q3 - Q1: This calculates the interquartile range (IQR), which is the difference between Q3 and Q1. The IQR tells us how spread out the middle 50% of the data is.\n",
        "\n",
        "* lower_bound = Q1 - 1.5 * IQR and upper_bound = Q3 + 1.5 * IQR: These lines calculate the lower and upper bounds to identify the acceptable range of values. Any value outside this range is considered an outlier.\n",
        "\n",
        "* df = df[(df[col] >= lower_bound) & (df[col] <= upper_bound)]: This line filters the data to keep only the values that are within the calculated bounds (i.e., it removes the outliers).\n",
        "\n",
        "* return df: After removing outliers from all specified columns, the updated dataset is returned.\n",
        "\n",
        "* data = remove_outliers(data, num_cols): This applies the remove_outliers function to the data dataset for the specified numerical columns (num_cols), removing any outliers."
      ],
      "metadata": {
        "id": "GVATIjNj7336"
      }
    },
    {
      "cell_type": "code",
      "source": [
        "import numpy as np\n",
        "\n",
        "def remove_outliers (df, columns):\n",
        "  for col in columns:\n",
        "    Q1 = df[col].quantile(0.25)\n",
        "    Q3 = df[col].quantile(0.75)\n",
        "    IQR = Q3 - Q1\n",
        "    lower_bound = Q1 - 1.5 * IQR\n",
        "    upper_bound = Q3 + 1.5 * IQR\n",
        "\n",
        "    df = df[(df [col] >= lower_bound) & (df [col] <= upper_bound)]\n",
        "  return df\n",
        "\n",
        "data = remove_outliers (data, num_cols)"
      ],
      "metadata": {
        "id": "UVqbbMBJ769L"
      },
      "execution_count": 7,
      "outputs": []
    },
    {
      "cell_type": "markdown",
      "source": [
        "# **Spliting data into training and testing sets**\n",
        "\n",
        "This Python code splits the dataset into training and testing sets for machine learning purposes.\n",
        "\n",
        "* from sklearn.model_selection import train_test_split: This imports the train_test_split function from sklearn.model_selection. This function is used to split a dataset into training and testing subsets.\n",
        "\n",
        "* x = data.drop('median_house_value', axis=1): This line defines x as the features (input variables) of the dataset. It removes the median_house_value column from the dataset because this column is the target variable that we are trying to predict. The axis=1 argument means we're dropping a column, not a row.\n",
        "\n",
        "* y = data['median_house_value']: This line defines y as the target variable, which is the median_house_value column from the dataset. This is the value we want to predict using the features in x.\n",
        "\n",
        "* x_train, x_test, y_train, y_test = train_test_split(x, y, test_size=0.2, random_state=42): This splits the dataset into training and testing sets.\n",
        "\n",
        "* x_train and y_train will be used to train the model.\n",
        "x_test and y_test will be used to test the model and evaluate its performance.\n",
        "test_size=0.2 means that 20% of the data will be used for testing, and the remaining 80% will be used for training.\n",
        "random_state=42 ensures that the split is reproducible, meaning the same split will occur each time the code is run."
      ],
      "metadata": {
        "id": "G6UE7CSQ803I"
      }
    },
    {
      "cell_type": "code",
      "source": [
        "from sklearn.model_selection import train_test_split\n",
        "\n",
        "# defining features x and y\n",
        "x = data.drop ('median_house_value', axis = 1)\n",
        "y = data ['median_house_value']\n",
        "\n",
        "# splitting data\n",
        "x_train, x_test, y_train, y_test = train_test_split(x, y, test_size = 0.2, random_state = 42)"
      ],
      "metadata": {
        "id": "q3fF6-zG87Gh"
      },
      "execution_count": 8,
      "outputs": []
    },
    {
      "cell_type": "markdown",
      "source": [
        "# **Builing ANN**\n",
        "\n",
        "This Python code creates a deep learning model using TensorFlow and Keras to predict the target variable, which is median_house_value from the dataset.\n",
        "\n",
        "Here’s a breakdown of the code:\n",
        "\n",
        "* import tensorflow as tf: This imports the TensorFlow library, which is used for building and training machine learning models.\n",
        "\n",
        "* from tensorflow.keras.models import Sequential: This imports the Sequential class from Keras, which is used to build a neural network model layer by layer.\n",
        "\n",
        "* from tensorflow.keras.layers import Dense, Dropout: This imports the Dense (fully connected) and Dropout layers from Keras.\n",
        "\n",
        "* Dense layers are the core building blocks of neural networks, where each neuron is connected to every neuron in the previous layer.\n",
        "Dropout is a regularization technique used to reduce overfitting by randomly dropping a certain percentage of neurons during training.\n",
        "model = Sequential(): This initializes a Sequential model, which means the model will have layers stacked one after another.\n",
        "\n",
        "* model.add(Dense(units=64, activation='relu', input_shape=(x_train.shape[1],))): This adds the first Dense layer with 64 neurons and uses the ReLU (Rectified Linear Unit) activation function.\n",
        "input_shape=(x_train.shape[1],) specifies the shape of the input data (the number of features in x_train).\n",
        "* model.add(Dense(units=32, activation='relu')): This adds another Dense layer with 32 neurons and ReLU activation.\n",
        "\n",
        "* model.add(Dense(units=16, activation='relu')): This adds a third Dense layer with 16 neurons and ReLU activation.\n",
        "\n",
        "* model.add(Dropout(0.3)): This adds a Dropout layer with a dropout rate of 30% (0.3), meaning 30% of the neurons will be randomly dropped during training to prevent overfitting.\n",
        "\n",
        "* model.add(Dense(units=1)): This adds the final Dense layer with a single neuron to produce the output, which is the predicted median_house_value.\n",
        "\n",
        "* model.compile(optimizer='adam', loss='mae', metrics=['mae']):\n",
        "\n",
        "* optimizer='adam' specifies the Adam optimizer, which is commonly used for training deep learning models.\n",
        "* loss='mae' uses Mean Absolute Error (MAE) as the loss function, which is appropriate for regression problems.\n",
        "* metrics=['mae'] adds MAE as a metric to evaluate the performance of the model during training."
      ],
      "metadata": {
        "id": "tnYrN1sy9Tcm"
      }
    },
    {
      "cell_type": "code",
      "source": [
        "import tensorflow as tf\n",
        "from tensorflow.keras.models import Sequential\n",
        "from tensorflow.keras.layers import Dense, Dropout\n",
        "\n",
        "model = Sequential()\n",
        "\n",
        "# adding layers\n",
        "\n",
        "model.add(Dense(units=64, activation = 'relu', input_shape=(x_train.shape[1],)))\n",
        "model.add(Dense(units=32, activation = 'relu'))\n",
        "model.add(Dense(units=16, activation = 'relu'))\n",
        "model.add(Dropout(0.3))\n",
        "model.add(Dense(units=1))\n",
        "\n",
        "model.compile(optimizer='adam', loss='mae', metrics=['mae'])\n"
      ],
      "metadata": {
        "colab": {
          "base_uri": "https://localhost:8080/",
          "height": 0
        },
        "id": "M8-2-94K9VSk",
        "outputId": "2fd15745-4b02-4bf3-f7f9-998e5f040928"
      },
      "execution_count": 15,
      "outputs": [
        {
          "output_type": "stream",
          "name": "stderr",
          "text": [
            "/usr/local/lib/python3.11/dist-packages/keras/src/layers/core/dense.py:87: UserWarning: Do not pass an `input_shape`/`input_dim` argument to a layer. When using Sequential models, prefer using an `Input(shape)` object as the first layer in the model instead.\n",
            "  super().__init__(activity_regularizer=activity_regularizer, **kwargs)\n"
          ]
        }
      ]
    },
    {
      "cell_type": "markdown",
      "source": [
        "# **Training the model**\n",
        "\n",
        "\n",
        "This Python code trains the deep learning model using the training data.\n",
        "\n",
        "Here’s a breakdown of the code:\n",
        "\n",
        "* history = model.fit(x_train, y_train, epochs=100, batch_size=32, validation_split=0.2, verbose=1):\n",
        "* model.fit(x_train, y_train): This starts the training of the model. It uses x_train as the input features and y_train as the target labels.\n",
        "* epochs=100: This specifies that the model will go through the entire training dataset 100 times (100 epochs). Each epoch represents one full pass through the training data.\n",
        "* batch_size=32: This sets the number of training samples processed before the model updates its weights. A batch size of 32 means the model will process 32 samples at a time.\n",
        "* validation_split=0.2: This reserves 20% of the training data for validation, so the model can evaluate its performance on unseen data during training (useful for monitoring overfitting).\n",
        "* verbose=1: This controls the output displayed during training. Setting verbose=1 will display the progress of the training for each epoch, including loss and metrics values."
      ],
      "metadata": {
        "id": "QngLfcft_Xsc"
      }
    },
    {
      "cell_type": "code",
      "source": [
        "history = model.fit(x_train, y_train, epochs=100, batch_size=32, validation_split=0.2, verbose=1)"
      ],
      "metadata": {
        "colab": {
          "base_uri": "https://localhost:8080/",
          "height": 0
        },
        "id": "ktDR1jKX_aKS",
        "outputId": "7cf39b9a-dd36-4cc4-bf94-24fde9b790c9"
      },
      "execution_count": 16,
      "outputs": [
        {
          "output_type": "stream",
          "name": "stdout",
          "text": [
            "Epoch 1/100\n",
            "\u001b[1m338/338\u001b[0m \u001b[32m━━━━━━━━━━━━━━━━━━━━\u001b[0m\u001b[37m\u001b[0m \u001b[1m3s\u001b[0m 4ms/step - loss: 0.5064 - mae: 0.5064 - val_loss: 0.3417 - val_mae: 0.3417\n",
            "Epoch 2/100\n",
            "\u001b[1m338/338\u001b[0m \u001b[32m━━━━━━━━━━━━━━━━━━━━\u001b[0m\u001b[37m\u001b[0m \u001b[1m2s\u001b[0m 3ms/step - loss: 0.3717 - mae: 0.3717 - val_loss: 0.3203 - val_mae: 0.3203\n",
            "Epoch 3/100\n",
            "\u001b[1m338/338\u001b[0m \u001b[32m━━━━━━━━━━━━━━━━━━━━\u001b[0m\u001b[37m\u001b[0m \u001b[1m1s\u001b[0m 3ms/step - loss: 0.3517 - mae: 0.3517 - val_loss: 0.3133 - val_mae: 0.3133\n",
            "Epoch 4/100\n",
            "\u001b[1m338/338\u001b[0m \u001b[32m━━━━━━━━━━━━━━━━━━━━\u001b[0m\u001b[37m\u001b[0m \u001b[1m2s\u001b[0m 5ms/step - loss: 0.3384 - mae: 0.3384 - val_loss: 0.3151 - val_mae: 0.3151\n",
            "Epoch 5/100\n",
            "\u001b[1m338/338\u001b[0m \u001b[32m━━━━━━━━━━━━━━━━━━━━\u001b[0m\u001b[37m\u001b[0m \u001b[1m2s\u001b[0m 5ms/step - loss: 0.3380 - mae: 0.3380 - val_loss: 0.3148 - val_mae: 0.3148\n",
            "Epoch 6/100\n",
            "\u001b[1m338/338\u001b[0m \u001b[32m━━━━━━━━━━━━━━━━━━━━\u001b[0m\u001b[37m\u001b[0m \u001b[1m2s\u001b[0m 3ms/step - loss: 0.3324 - mae: 0.3324 - val_loss: 0.3006 - val_mae: 0.3006\n",
            "Epoch 7/100\n",
            "\u001b[1m338/338\u001b[0m \u001b[32m━━━━━━━━━━━━━━━━━━━━\u001b[0m\u001b[37m\u001b[0m \u001b[1m1s\u001b[0m 3ms/step - loss: 0.3333 - mae: 0.3333 - val_loss: 0.3020 - val_mae: 0.3020\n",
            "Epoch 8/100\n",
            "\u001b[1m338/338\u001b[0m \u001b[32m━━━━━━━━━━━━━━━━━━━━\u001b[0m\u001b[37m\u001b[0m \u001b[1m1s\u001b[0m 3ms/step - loss: 0.3319 - mae: 0.3319 - val_loss: 0.2976 - val_mae: 0.2976\n",
            "Epoch 9/100\n",
            "\u001b[1m338/338\u001b[0m \u001b[32m━━━━━━━━━━━━━━━━━━━━\u001b[0m\u001b[37m\u001b[0m \u001b[1m1s\u001b[0m 3ms/step - loss: 0.3298 - mae: 0.3298 - val_loss: 0.3008 - val_mae: 0.3008\n",
            "Epoch 10/100\n",
            "\u001b[1m338/338\u001b[0m \u001b[32m━━━━━━━━━━━━━━━━━━━━\u001b[0m\u001b[37m\u001b[0m \u001b[1m1s\u001b[0m 4ms/step - loss: 0.3212 - mae: 0.3212 - val_loss: 0.2982 - val_mae: 0.2982\n",
            "Epoch 11/100\n",
            "\u001b[1m338/338\u001b[0m \u001b[32m━━━━━━━━━━━━━━━━━━━━\u001b[0m\u001b[37m\u001b[0m \u001b[1m1s\u001b[0m 3ms/step - loss: 0.3231 - mae: 0.3231 - val_loss: 0.2914 - val_mae: 0.2914\n",
            "Epoch 12/100\n",
            "\u001b[1m338/338\u001b[0m \u001b[32m━━━━━━━━━━━━━━━━━━━━\u001b[0m\u001b[37m\u001b[0m \u001b[1m1s\u001b[0m 3ms/step - loss: 0.3214 - mae: 0.3214 - val_loss: 0.2924 - val_mae: 0.2924\n",
            "Epoch 13/100\n",
            "\u001b[1m338/338\u001b[0m \u001b[32m━━━━━━━━━━━━━━━━━━━━\u001b[0m\u001b[37m\u001b[0m \u001b[1m1s\u001b[0m 3ms/step - loss: 0.3196 - mae: 0.3196 - val_loss: 0.2813 - val_mae: 0.2813\n",
            "Epoch 14/100\n",
            "\u001b[1m338/338\u001b[0m \u001b[32m━━━━━━━━━━━━━━━━━━━━\u001b[0m\u001b[37m\u001b[0m \u001b[1m2s\u001b[0m 5ms/step - loss: 0.3106 - mae: 0.3106 - val_loss: 0.2838 - val_mae: 0.2838\n",
            "Epoch 15/100\n",
            "\u001b[1m338/338\u001b[0m \u001b[32m━━━━━━━━━━━━━━━━━━━━\u001b[0m\u001b[37m\u001b[0m \u001b[1m2s\u001b[0m 3ms/step - loss: 0.3137 - mae: 0.3137 - val_loss: 0.2749 - val_mae: 0.2749\n",
            "Epoch 16/100\n",
            "\u001b[1m338/338\u001b[0m \u001b[32m━━━━━━━━━━━━━━━━━━━━\u001b[0m\u001b[37m\u001b[0m \u001b[1m1s\u001b[0m 3ms/step - loss: 0.3085 - mae: 0.3085 - val_loss: 0.2856 - val_mae: 0.2856\n",
            "Epoch 17/100\n",
            "\u001b[1m338/338\u001b[0m \u001b[32m━━━━━━━━━━━━━━━━━━━━\u001b[0m\u001b[37m\u001b[0m \u001b[1m1s\u001b[0m 3ms/step - loss: 0.3088 - mae: 0.3088 - val_loss: 0.2790 - val_mae: 0.2790\n",
            "Epoch 18/100\n",
            "\u001b[1m338/338\u001b[0m \u001b[32m━━━━━━━━━━━━━━━━━━━━\u001b[0m\u001b[37m\u001b[0m \u001b[1m1s\u001b[0m 3ms/step - loss: 0.3083 - mae: 0.3083 - val_loss: 0.2907 - val_mae: 0.2907\n",
            "Epoch 19/100\n",
            "\u001b[1m338/338\u001b[0m \u001b[32m━━━━━━━━━━━━━━━━━━━━\u001b[0m\u001b[37m\u001b[0m \u001b[1m1s\u001b[0m 3ms/step - loss: 0.3100 - mae: 0.3100 - val_loss: 0.2773 - val_mae: 0.2773\n",
            "Epoch 20/100\n",
            "\u001b[1m338/338\u001b[0m \u001b[32m━━━━━━━━━━━━━━━━━━━━\u001b[0m\u001b[37m\u001b[0m \u001b[1m1s\u001b[0m 3ms/step - loss: 0.3070 - mae: 0.3070 - val_loss: 0.2786 - val_mae: 0.2786\n",
            "Epoch 21/100\n",
            "\u001b[1m338/338\u001b[0m \u001b[32m━━━━━━━━━━━━━━━━━━━━\u001b[0m\u001b[37m\u001b[0m \u001b[1m1s\u001b[0m 3ms/step - loss: 0.3051 - mae: 0.3051 - val_loss: 0.2764 - val_mae: 0.2764\n",
            "Epoch 22/100\n",
            "\u001b[1m338/338\u001b[0m \u001b[32m━━━━━━━━━━━━━━━━━━━━\u001b[0m\u001b[37m\u001b[0m \u001b[1m1s\u001b[0m 3ms/step - loss: 0.3029 - mae: 0.3029 - val_loss: 0.2743 - val_mae: 0.2743\n",
            "Epoch 23/100\n",
            "\u001b[1m338/338\u001b[0m \u001b[32m━━━━━━━━━━━━━━━━━━━━\u001b[0m\u001b[37m\u001b[0m \u001b[1m2s\u001b[0m 5ms/step - loss: 0.2973 - mae: 0.2973 - val_loss: 0.2781 - val_mae: 0.2781\n",
            "Epoch 24/100\n",
            "\u001b[1m338/338\u001b[0m \u001b[32m━━━━━━━━━━━━━━━━━━━━\u001b[0m\u001b[37m\u001b[0m \u001b[1m2s\u001b[0m 3ms/step - loss: 0.3012 - mae: 0.3012 - val_loss: 0.2772 - val_mae: 0.2772\n",
            "Epoch 25/100\n",
            "\u001b[1m338/338\u001b[0m \u001b[32m━━━━━━━━━━━━━━━━━━━━\u001b[0m\u001b[37m\u001b[0m \u001b[1m1s\u001b[0m 3ms/step - loss: 0.2996 - mae: 0.2996 - val_loss: 0.2713 - val_mae: 0.2713\n",
            "Epoch 26/100\n",
            "\u001b[1m338/338\u001b[0m \u001b[32m━━━━━━━━━━━━━━━━━━━━\u001b[0m\u001b[37m\u001b[0m \u001b[1m1s\u001b[0m 3ms/step - loss: 0.2978 - mae: 0.2978 - val_loss: 0.2738 - val_mae: 0.2738\n",
            "Epoch 27/100\n",
            "\u001b[1m338/338\u001b[0m \u001b[32m━━━━━━━━━━━━━━━━━━━━\u001b[0m\u001b[37m\u001b[0m \u001b[1m1s\u001b[0m 3ms/step - loss: 0.3033 - mae: 0.3033 - val_loss: 0.2735 - val_mae: 0.2735\n",
            "Epoch 28/100\n",
            "\u001b[1m338/338\u001b[0m \u001b[32m━━━━━━━━━━━━━━━━━━━━\u001b[0m\u001b[37m\u001b[0m \u001b[1m1s\u001b[0m 3ms/step - loss: 0.3035 - mae: 0.3035 - val_loss: 0.2765 - val_mae: 0.2765\n",
            "Epoch 29/100\n",
            "\u001b[1m338/338\u001b[0m \u001b[32m━━━━━━━━━━━━━━━━━━━━\u001b[0m\u001b[37m\u001b[0m \u001b[1m1s\u001b[0m 3ms/step - loss: 0.2995 - mae: 0.2995 - val_loss: 0.2815 - val_mae: 0.2815\n",
            "Epoch 30/100\n",
            "\u001b[1m338/338\u001b[0m \u001b[32m━━━━━━━━━━━━━━━━━━━━\u001b[0m\u001b[37m\u001b[0m \u001b[1m1s\u001b[0m 3ms/step - loss: 0.3017 - mae: 0.3017 - val_loss: 0.2765 - val_mae: 0.2765\n",
            "Epoch 31/100\n",
            "\u001b[1m338/338\u001b[0m \u001b[32m━━━━━━━━━━━━━━━━━━━━\u001b[0m\u001b[37m\u001b[0m \u001b[1m1s\u001b[0m 3ms/step - loss: 0.3002 - mae: 0.3002 - val_loss: 0.2780 - val_mae: 0.2780\n",
            "Epoch 32/100\n",
            "\u001b[1m338/338\u001b[0m \u001b[32m━━━━━━━━━━━━━━━━━━━━\u001b[0m\u001b[37m\u001b[0m \u001b[1m1s\u001b[0m 3ms/step - loss: 0.2955 - mae: 0.2955 - val_loss: 0.2714 - val_mae: 0.2714\n",
            "Epoch 33/100\n",
            "\u001b[1m338/338\u001b[0m \u001b[32m━━━━━━━━━━━━━━━━━━━━\u001b[0m\u001b[37m\u001b[0m \u001b[1m2s\u001b[0m 5ms/step - loss: 0.2900 - mae: 0.2900 - val_loss: 0.2754 - val_mae: 0.2754\n",
            "Epoch 34/100\n",
            "\u001b[1m338/338\u001b[0m \u001b[32m━━━━━━━━━━━━━━━━━━━━\u001b[0m\u001b[37m\u001b[0m \u001b[1m2s\u001b[0m 5ms/step - loss: 0.2888 - mae: 0.2888 - val_loss: 0.2655 - val_mae: 0.2655\n",
            "Epoch 35/100\n",
            "\u001b[1m338/338\u001b[0m \u001b[32m━━━━━━━━━━━━━━━━━━━━\u001b[0m\u001b[37m\u001b[0m \u001b[1m2s\u001b[0m 3ms/step - loss: 0.2852 - mae: 0.2852 - val_loss: 0.2721 - val_mae: 0.2721\n",
            "Epoch 36/100\n",
            "\u001b[1m338/338\u001b[0m \u001b[32m━━━━━━━━━━━━━━━━━━━━\u001b[0m\u001b[37m\u001b[0m \u001b[1m1s\u001b[0m 3ms/step - loss: 0.2862 - mae: 0.2862 - val_loss: 0.2662 - val_mae: 0.2662\n",
            "Epoch 37/100\n",
            "\u001b[1m338/338\u001b[0m \u001b[32m━━━━━━━━━━━━━━━━━━━━\u001b[0m\u001b[37m\u001b[0m \u001b[1m1s\u001b[0m 3ms/step - loss: 0.2932 - mae: 0.2932 - val_loss: 0.2686 - val_mae: 0.2686\n",
            "Epoch 38/100\n",
            "\u001b[1m338/338\u001b[0m \u001b[32m━━━━━━━━━━━━━━━━━━━━\u001b[0m\u001b[37m\u001b[0m \u001b[1m1s\u001b[0m 3ms/step - loss: 0.2911 - mae: 0.2911 - val_loss: 0.2715 - val_mae: 0.2715\n",
            "Epoch 39/100\n",
            "\u001b[1m338/338\u001b[0m \u001b[32m━━━━━━━━━━━━━━━━━━━━\u001b[0m\u001b[37m\u001b[0m \u001b[1m1s\u001b[0m 3ms/step - loss: 0.2898 - mae: 0.2898 - val_loss: 0.2653 - val_mae: 0.2653\n",
            "Epoch 40/100\n",
            "\u001b[1m338/338\u001b[0m \u001b[32m━━━━━━━━━━━━━━━━━━━━\u001b[0m\u001b[37m\u001b[0m \u001b[1m1s\u001b[0m 3ms/step - loss: 0.2906 - mae: 0.2906 - val_loss: 0.2642 - val_mae: 0.2642\n",
            "Epoch 41/100\n",
            "\u001b[1m338/338\u001b[0m \u001b[32m━━━━━━━━━━━━━━━━━━━━\u001b[0m\u001b[37m\u001b[0m \u001b[1m1s\u001b[0m 3ms/step - loss: 0.2866 - mae: 0.2866 - val_loss: 0.2729 - val_mae: 0.2729\n",
            "Epoch 42/100\n",
            "\u001b[1m338/338\u001b[0m \u001b[32m━━━━━━━━━━━━━━━━━━━━\u001b[0m\u001b[37m\u001b[0m \u001b[1m1s\u001b[0m 3ms/step - loss: 0.2858 - mae: 0.2858 - val_loss: 0.2668 - val_mae: 0.2668\n",
            "Epoch 43/100\n",
            "\u001b[1m338/338\u001b[0m \u001b[32m━━━━━━━━━━━━━━━━━━━━\u001b[0m\u001b[37m\u001b[0m \u001b[1m2s\u001b[0m 5ms/step - loss: 0.2886 - mae: 0.2886 - val_loss: 0.2666 - val_mae: 0.2666\n",
            "Epoch 44/100\n",
            "\u001b[1m338/338\u001b[0m \u001b[32m━━━━━━━━━━━━━━━━━━━━\u001b[0m\u001b[37m\u001b[0m \u001b[1m2s\u001b[0m 4ms/step - loss: 0.2878 - mae: 0.2878 - val_loss: 0.2692 - val_mae: 0.2692\n",
            "Epoch 45/100\n",
            "\u001b[1m338/338\u001b[0m \u001b[32m━━━━━━━━━━━━━━━━━━━━\u001b[0m\u001b[37m\u001b[0m \u001b[1m2s\u001b[0m 3ms/step - loss: 0.2886 - mae: 0.2886 - val_loss: 0.2590 - val_mae: 0.2590\n",
            "Epoch 46/100\n",
            "\u001b[1m338/338\u001b[0m \u001b[32m━━━━━━━━━━━━━━━━━━━━\u001b[0m\u001b[37m\u001b[0m \u001b[1m1s\u001b[0m 3ms/step - loss: 0.2850 - mae: 0.2850 - val_loss: 0.2693 - val_mae: 0.2693\n",
            "Epoch 47/100\n",
            "\u001b[1m338/338\u001b[0m \u001b[32m━━━━━━━━━━━━━━━━━━━━\u001b[0m\u001b[37m\u001b[0m \u001b[1m1s\u001b[0m 3ms/step - loss: 0.2922 - mae: 0.2922 - val_loss: 0.2674 - val_mae: 0.2674\n",
            "Epoch 48/100\n",
            "\u001b[1m338/338\u001b[0m \u001b[32m━━━━━━━━━━━━━━━━━━━━\u001b[0m\u001b[37m\u001b[0m \u001b[1m1s\u001b[0m 3ms/step - loss: 0.2877 - mae: 0.2877 - val_loss: 0.2698 - val_mae: 0.2698\n",
            "Epoch 49/100\n",
            "\u001b[1m338/338\u001b[0m \u001b[32m━━━━━━━━━━━━━━━━━━━━\u001b[0m\u001b[37m\u001b[0m \u001b[1m1s\u001b[0m 3ms/step - loss: 0.2898 - mae: 0.2898 - val_loss: 0.2648 - val_mae: 0.2648\n",
            "Epoch 50/100\n",
            "\u001b[1m338/338\u001b[0m \u001b[32m━━━━━━━━━━━━━━━━━━━━\u001b[0m\u001b[37m\u001b[0m \u001b[1m1s\u001b[0m 3ms/step - loss: 0.2816 - mae: 0.2816 - val_loss: 0.2637 - val_mae: 0.2637\n",
            "Epoch 51/100\n",
            "\u001b[1m338/338\u001b[0m \u001b[32m━━━━━━━━━━━━━━━━━━━━\u001b[0m\u001b[37m\u001b[0m \u001b[1m1s\u001b[0m 3ms/step - loss: 0.2887 - mae: 0.2887 - val_loss: 0.2643 - val_mae: 0.2643\n",
            "Epoch 52/100\n",
            "\u001b[1m338/338\u001b[0m \u001b[32m━━━━━━━━━━━━━━━━━━━━\u001b[0m\u001b[37m\u001b[0m \u001b[1m2s\u001b[0m 4ms/step - loss: 0.2880 - mae: 0.2880 - val_loss: 0.2670 - val_mae: 0.2670\n",
            "Epoch 53/100\n",
            "\u001b[1m338/338\u001b[0m \u001b[32m━━━━━━━━━━━━━━━━━━━━\u001b[0m\u001b[37m\u001b[0m \u001b[1m2s\u001b[0m 3ms/step - loss: 0.2827 - mae: 0.2827 - val_loss: 0.2610 - val_mae: 0.2610\n",
            "Epoch 54/100\n",
            "\u001b[1m338/338\u001b[0m \u001b[32m━━━━━━━━━━━━━━━━━━━━\u001b[0m\u001b[37m\u001b[0m \u001b[1m1s\u001b[0m 3ms/step - loss: 0.2913 - mae: 0.2913 - val_loss: 0.2704 - val_mae: 0.2704\n",
            "Epoch 55/100\n",
            "\u001b[1m338/338\u001b[0m \u001b[32m━━━━━━━━━━━━━━━━━━━━\u001b[0m\u001b[37m\u001b[0m \u001b[1m1s\u001b[0m 3ms/step - loss: 0.2857 - mae: 0.2857 - val_loss: 0.2599 - val_mae: 0.2599\n",
            "Epoch 56/100\n",
            "\u001b[1m338/338\u001b[0m \u001b[32m━━━━━━━━━━━━━━━━━━━━\u001b[0m\u001b[37m\u001b[0m \u001b[1m1s\u001b[0m 3ms/step - loss: 0.2793 - mae: 0.2793 - val_loss: 0.2641 - val_mae: 0.2641\n",
            "Epoch 57/100\n",
            "\u001b[1m338/338\u001b[0m \u001b[32m━━━━━━━━━━━━━━━━━━━━\u001b[0m\u001b[37m\u001b[0m \u001b[1m1s\u001b[0m 3ms/step - loss: 0.2805 - mae: 0.2805 - val_loss: 0.2705 - val_mae: 0.2705\n",
            "Epoch 58/100\n",
            "\u001b[1m338/338\u001b[0m \u001b[32m━━━━━━━━━━━━━━━━━━━━\u001b[0m\u001b[37m\u001b[0m \u001b[1m1s\u001b[0m 3ms/step - loss: 0.2835 - mae: 0.2835 - val_loss: 0.2572 - val_mae: 0.2572\n",
            "Epoch 59/100\n",
            "\u001b[1m338/338\u001b[0m \u001b[32m━━━━━━━━━━━━━━━━━━━━\u001b[0m\u001b[37m\u001b[0m \u001b[1m1s\u001b[0m 3ms/step - loss: 0.2779 - mae: 0.2779 - val_loss: 0.2613 - val_mae: 0.2613\n",
            "Epoch 60/100\n",
            "\u001b[1m338/338\u001b[0m \u001b[32m━━━━━━━━━━━━━━━━━━━━\u001b[0m\u001b[37m\u001b[0m \u001b[1m1s\u001b[0m 3ms/step - loss: 0.2809 - mae: 0.2809 - val_loss: 0.2620 - val_mae: 0.2620\n",
            "Epoch 61/100\n",
            "\u001b[1m338/338\u001b[0m \u001b[32m━━━━━━━━━━━━━━━━━━━━\u001b[0m\u001b[37m\u001b[0m \u001b[1m2s\u001b[0m 5ms/step - loss: 0.2803 - mae: 0.2803 - val_loss: 0.2712 - val_mae: 0.2712\n",
            "Epoch 62/100\n",
            "\u001b[1m338/338\u001b[0m \u001b[32m━━━━━━━━━━━━━━━━━━━━\u001b[0m\u001b[37m\u001b[0m \u001b[1m2s\u001b[0m 4ms/step - loss: 0.2785 - mae: 0.2785 - val_loss: 0.2621 - val_mae: 0.2621\n",
            "Epoch 63/100\n",
            "\u001b[1m338/338\u001b[0m \u001b[32m━━━━━━━━━━━━━━━━━━━━\u001b[0m\u001b[37m\u001b[0m \u001b[1m2s\u001b[0m 3ms/step - loss: 0.2799 - mae: 0.2799 - val_loss: 0.2641 - val_mae: 0.2641\n",
            "Epoch 64/100\n",
            "\u001b[1m338/338\u001b[0m \u001b[32m━━━━━━━━━━━━━━━━━━━━\u001b[0m\u001b[37m\u001b[0m \u001b[1m1s\u001b[0m 3ms/step - loss: 0.2764 - mae: 0.2764 - val_loss: 0.2616 - val_mae: 0.2616\n",
            "Epoch 65/100\n",
            "\u001b[1m338/338\u001b[0m \u001b[32m━━━━━━━━━━━━━━━━━━━━\u001b[0m\u001b[37m\u001b[0m \u001b[1m1s\u001b[0m 3ms/step - loss: 0.2722 - mae: 0.2722 - val_loss: 0.2573 - val_mae: 0.2573\n",
            "Epoch 66/100\n",
            "\u001b[1m338/338\u001b[0m \u001b[32m━━━━━━━━━━━━━━━━━━━━\u001b[0m\u001b[37m\u001b[0m \u001b[1m2s\u001b[0m 4ms/step - loss: 0.2754 - mae: 0.2754 - val_loss: 0.2639 - val_mae: 0.2639\n",
            "Epoch 67/100\n",
            "\u001b[1m338/338\u001b[0m \u001b[32m━━━━━━━━━━━━━━━━━━━━\u001b[0m\u001b[37m\u001b[0m \u001b[1m2s\u001b[0m 3ms/step - loss: 0.2814 - mae: 0.2814 - val_loss: 0.2640 - val_mae: 0.2640\n",
            "Epoch 68/100\n",
            "\u001b[1m338/338\u001b[0m \u001b[32m━━━━━━━━━━━━━━━━━━━━\u001b[0m\u001b[37m\u001b[0m \u001b[1m1s\u001b[0m 3ms/step - loss: 0.2767 - mae: 0.2767 - val_loss: 0.2576 - val_mae: 0.2576\n",
            "Epoch 69/100\n",
            "\u001b[1m338/338\u001b[0m \u001b[32m━━━━━━━━━━━━━━━━━━━━\u001b[0m\u001b[37m\u001b[0m \u001b[1m2s\u001b[0m 5ms/step - loss: 0.2722 - mae: 0.2722 - val_loss: 0.2579 - val_mae: 0.2579\n",
            "Epoch 70/100\n",
            "\u001b[1m338/338\u001b[0m \u001b[32m━━━━━━━━━━━━━━━━━━━━\u001b[0m\u001b[37m\u001b[0m \u001b[1m2s\u001b[0m 5ms/step - loss: 0.2770 - mae: 0.2770 - val_loss: 0.2576 - val_mae: 0.2576\n",
            "Epoch 71/100\n",
            "\u001b[1m338/338\u001b[0m \u001b[32m━━━━━━━━━━━━━━━━━━━━\u001b[0m\u001b[37m\u001b[0m \u001b[1m2s\u001b[0m 3ms/step - loss: 0.2752 - mae: 0.2752 - val_loss: 0.2565 - val_mae: 0.2565\n",
            "Epoch 72/100\n",
            "\u001b[1m338/338\u001b[0m \u001b[32m━━━━━━━━━━━━━━━━━━━━\u001b[0m\u001b[37m\u001b[0m \u001b[1m1s\u001b[0m 3ms/step - loss: 0.2764 - mae: 0.2764 - val_loss: 0.2553 - val_mae: 0.2553\n",
            "Epoch 73/100\n",
            "\u001b[1m338/338\u001b[0m \u001b[32m━━━━━━━━━━━━━━━━━━━━\u001b[0m\u001b[37m\u001b[0m \u001b[1m1s\u001b[0m 3ms/step - loss: 0.2796 - mae: 0.2796 - val_loss: 0.2656 - val_mae: 0.2656\n",
            "Epoch 74/100\n",
            "\u001b[1m338/338\u001b[0m \u001b[32m━━━━━━━━━━━━━━━━━━━━\u001b[0m\u001b[37m\u001b[0m \u001b[1m1s\u001b[0m 3ms/step - loss: 0.2795 - mae: 0.2795 - val_loss: 0.2637 - val_mae: 0.2637\n",
            "Epoch 75/100\n",
            "\u001b[1m338/338\u001b[0m \u001b[32m━━━━━━━━━━━━━━━━━━━━\u001b[0m\u001b[37m\u001b[0m \u001b[1m1s\u001b[0m 3ms/step - loss: 0.2765 - mae: 0.2765 - val_loss: 0.2538 - val_mae: 0.2538\n",
            "Epoch 76/100\n",
            "\u001b[1m338/338\u001b[0m \u001b[32m━━━━━━━━━━━━━━━━━━━━\u001b[0m\u001b[37m\u001b[0m \u001b[1m1s\u001b[0m 3ms/step - loss: 0.2749 - mae: 0.2749 - val_loss: 0.2595 - val_mae: 0.2595\n",
            "Epoch 77/100\n",
            "\u001b[1m338/338\u001b[0m \u001b[32m━━━━━━━━━━━━━━━━━━━━\u001b[0m\u001b[37m\u001b[0m \u001b[1m1s\u001b[0m 3ms/step - loss: 0.2752 - mae: 0.2752 - val_loss: 0.2627 - val_mae: 0.2627\n",
            "Epoch 78/100\n",
            "\u001b[1m338/338\u001b[0m \u001b[32m━━━━━━━━━━━━━━━━━━━━\u001b[0m\u001b[37m\u001b[0m \u001b[1m1s\u001b[0m 3ms/step - loss: 0.2751 - mae: 0.2751 - val_loss: 0.2615 - val_mae: 0.2615\n",
            "Epoch 79/100\n",
            "\u001b[1m338/338\u001b[0m \u001b[32m━━━━━━━━━━━━━━━━━━━━\u001b[0m\u001b[37m\u001b[0m \u001b[1m2s\u001b[0m 5ms/step - loss: 0.2750 - mae: 0.2750 - val_loss: 0.2538 - val_mae: 0.2538\n",
            "Epoch 80/100\n",
            "\u001b[1m338/338\u001b[0m \u001b[32m━━━━━━━━━━━━━━━━━━━━\u001b[0m\u001b[37m\u001b[0m \u001b[1m2s\u001b[0m 3ms/step - loss: 0.2821 - mae: 0.2821 - val_loss: 0.2595 - val_mae: 0.2595\n",
            "Epoch 81/100\n",
            "\u001b[1m338/338\u001b[0m \u001b[32m━━━━━━━━━━━━━━━━━━━━\u001b[0m\u001b[37m\u001b[0m \u001b[1m1s\u001b[0m 3ms/step - loss: 0.2772 - mae: 0.2772 - val_loss: 0.2587 - val_mae: 0.2587\n",
            "Epoch 82/100\n",
            "\u001b[1m338/338\u001b[0m \u001b[32m━━━━━━━━━━━━━━━━━━━━\u001b[0m\u001b[37m\u001b[0m \u001b[1m1s\u001b[0m 3ms/step - loss: 0.2716 - mae: 0.2716 - val_loss: 0.2551 - val_mae: 0.2551\n",
            "Epoch 83/100\n",
            "\u001b[1m338/338\u001b[0m \u001b[32m━━━━━━━━━━━━━━━━━━━━\u001b[0m\u001b[37m\u001b[0m \u001b[1m1s\u001b[0m 3ms/step - loss: 0.2725 - mae: 0.2725 - val_loss: 0.2609 - val_mae: 0.2609\n",
            "Epoch 84/100\n",
            "\u001b[1m338/338\u001b[0m \u001b[32m━━━━━━━━━━━━━━━━━━━━\u001b[0m\u001b[37m\u001b[0m \u001b[1m1s\u001b[0m 3ms/step - loss: 0.2734 - mae: 0.2734 - val_loss: 0.2650 - val_mae: 0.2650\n",
            "Epoch 85/100\n",
            "\u001b[1m338/338\u001b[0m \u001b[32m━━━━━━━━━━━━━━━━━━━━\u001b[0m\u001b[37m\u001b[0m \u001b[1m1s\u001b[0m 3ms/step - loss: 0.2763 - mae: 0.2763 - val_loss: 0.2591 - val_mae: 0.2591\n",
            "Epoch 86/100\n",
            "\u001b[1m338/338\u001b[0m \u001b[32m━━━━━━━━━━━━━━━━━━━━\u001b[0m\u001b[37m\u001b[0m \u001b[1m1s\u001b[0m 3ms/step - loss: 0.2748 - mae: 0.2748 - val_loss: 0.2546 - val_mae: 0.2546\n",
            "Epoch 87/100\n",
            "\u001b[1m338/338\u001b[0m \u001b[32m━━━━━━━━━━━━━━━━━━━━\u001b[0m\u001b[37m\u001b[0m \u001b[1m1s\u001b[0m 3ms/step - loss: 0.2676 - mae: 0.2676 - val_loss: 0.2588 - val_mae: 0.2588\n",
            "Epoch 88/100\n",
            "\u001b[1m338/338\u001b[0m \u001b[32m━━━━━━━━━━━━━━━━━━━━\u001b[0m\u001b[37m\u001b[0m \u001b[1m2s\u001b[0m 5ms/step - loss: 0.2708 - mae: 0.2708 - val_loss: 0.2607 - val_mae: 0.2607\n",
            "Epoch 89/100\n",
            "\u001b[1m338/338\u001b[0m \u001b[32m━━━━━━━━━━━━━━━━━━━━\u001b[0m\u001b[37m\u001b[0m \u001b[1m3s\u001b[0m 4ms/step - loss: 0.2733 - mae: 0.2733 - val_loss: 0.2618 - val_mae: 0.2618\n",
            "Epoch 90/100\n",
            "\u001b[1m338/338\u001b[0m \u001b[32m━━━━━━━━━━━━━━━━━━━━\u001b[0m\u001b[37m\u001b[0m \u001b[1m2s\u001b[0m 3ms/step - loss: 0.2711 - mae: 0.2711 - val_loss: 0.2566 - val_mae: 0.2566\n",
            "Epoch 91/100\n",
            "\u001b[1m338/338\u001b[0m \u001b[32m━━━━━━━━━━━━━━━━━━━━\u001b[0m\u001b[37m\u001b[0m \u001b[1m1s\u001b[0m 3ms/step - loss: 0.2758 - mae: 0.2758 - val_loss: 0.2586 - val_mae: 0.2586\n",
            "Epoch 92/100\n",
            "\u001b[1m338/338\u001b[0m \u001b[32m━━━━━━━━━━━━━━━━━━━━\u001b[0m\u001b[37m\u001b[0m \u001b[1m1s\u001b[0m 3ms/step - loss: 0.2761 - mae: 0.2761 - val_loss: 0.2635 - val_mae: 0.2635\n",
            "Epoch 93/100\n",
            "\u001b[1m338/338\u001b[0m \u001b[32m━━━━━━━━━━━━━━━━━━━━\u001b[0m\u001b[37m\u001b[0m \u001b[1m1s\u001b[0m 3ms/step - loss: 0.2723 - mae: 0.2723 - val_loss: 0.2531 - val_mae: 0.2531\n",
            "Epoch 94/100\n",
            "\u001b[1m338/338\u001b[0m \u001b[32m━━━━━━━━━━━━━━━━━━━━\u001b[0m\u001b[37m\u001b[0m \u001b[1m1s\u001b[0m 3ms/step - loss: 0.2734 - mae: 0.2734 - val_loss: 0.2582 - val_mae: 0.2582\n",
            "Epoch 95/100\n",
            "\u001b[1m338/338\u001b[0m \u001b[32m━━━━━━━━━━━━━━━━━━━━\u001b[0m\u001b[37m\u001b[0m \u001b[1m1s\u001b[0m 3ms/step - loss: 0.2676 - mae: 0.2676 - val_loss: 0.2643 - val_mae: 0.2643\n",
            "Epoch 96/100\n",
            "\u001b[1m338/338\u001b[0m \u001b[32m━━━━━━━━━━━━━━━━━━━━\u001b[0m\u001b[37m\u001b[0m \u001b[1m1s\u001b[0m 3ms/step - loss: 0.2744 - mae: 0.2744 - val_loss: 0.2554 - val_mae: 0.2554\n",
            "Epoch 97/100\n",
            "\u001b[1m338/338\u001b[0m \u001b[32m━━━━━━━━━━━━━━━━━━━━\u001b[0m\u001b[37m\u001b[0m \u001b[1m1s\u001b[0m 4ms/step - loss: 0.2707 - mae: 0.2707 - val_loss: 0.2588 - val_mae: 0.2588\n",
            "Epoch 98/100\n",
            "\u001b[1m338/338\u001b[0m \u001b[32m━━━━━━━━━━━━━━━━━━━━\u001b[0m\u001b[37m\u001b[0m \u001b[1m2s\u001b[0m 4ms/step - loss: 0.2721 - mae: 0.2721 - val_loss: 0.2599 - val_mae: 0.2599\n",
            "Epoch 99/100\n",
            "\u001b[1m338/338\u001b[0m \u001b[32m━━━━━━━━━━━━━━━━━━━━\u001b[0m\u001b[37m\u001b[0m \u001b[1m2s\u001b[0m 4ms/step - loss: 0.2723 - mae: 0.2723 - val_loss: 0.2547 - val_mae: 0.2547\n",
            "Epoch 100/100\n",
            "\u001b[1m338/338\u001b[0m \u001b[32m━━━━━━━━━━━━━━━━━━━━\u001b[0m\u001b[37m\u001b[0m \u001b[1m1s\u001b[0m 3ms/step - loss: 0.2646 - mae: 0.2646 - val_loss: 0.2632 - val_mae: 0.2632\n"
          ]
        }
      ]
    },
    {
      "cell_type": "markdown",
      "source": [
        "# **Evaluating Model**\n",
        "\n",
        "This Python code evaluates the performance of the trained model on the test dataset and prints the Mean Absolute Error (MAE).\n",
        "\n",
        "Here’s a breakdown of the code:\n",
        "\n",
        "* loss, mae = model.evaluate(x_test, y_test):\n",
        "model.evaluate(x_test, y_test): This evaluates the performance of the trained model on the test data (x_test for the input features and y_test for the actual target values).\n",
        "* The evaluate function returns two values:\n",
        "\n",
        "loss: The value of the loss function (Mean Absolute Error in this case) on the test data.\n",
        "\n",
        "mae: The calculated Mean Absolute Error (MAE) metric for the model's predictions on the test set.\n",
        "print(f'Mean Absolute Error on Test Set: {mae}'):\n",
        "\n",
        "* This line prints the MAE value on the test dataset, showing how accurately the model predicted the median_house_value on unseen data. A lower MAE value indicates better accuracy."
      ],
      "metadata": {
        "id": "xpGCzUHaANMo"
      }
    },
    {
      "cell_type": "code",
      "source": [
        "loss, mae = model.evaluate(x_test, y_test)\n",
        "print(f'Mean Absolute Error on Test Set: {mae}')"
      ],
      "metadata": {
        "colab": {
          "base_uri": "https://localhost:8080/",
          "height": 0
        },
        "id": "-8_U00VaAP6Y",
        "outputId": "53b836d7-545c-4420-88b0-d7b48d8073f5"
      },
      "execution_count": 17,
      "outputs": [
        {
          "output_type": "stream",
          "name": "stdout",
          "text": [
            "\u001b[1m106/106\u001b[0m \u001b[32m━━━━━━━━━━━━━━━━━━━━\u001b[0m\u001b[37m\u001b[0m \u001b[1m0s\u001b[0m 3ms/step - loss: 0.2760 - mae: 0.2760\n",
            "Mean Absolute Error on Test Set: 0.2737736403942108\n"
          ]
        }
      ]
    },
    {
      "cell_type": "markdown",
      "source": [
        "# **Visualizing Training Results**\n",
        "\n",
        "This code plots the loss values over each epoch for both training and validation data.\n",
        "\n",
        "* plt.plot(history.history['loss'], label='Training loss'): Plots the training loss values stored in the history object.\n",
        "* plt.plot(history.history['val_loss'], label='Validation loss'): Plots the validation loss values from the history object.\n",
        "* plt.xlabel('Epochs') and plt.ylabel('Loss'): Labels the x-axis as \"Epochs\" and the y-axis as \"Loss\".\n",
        "* plt.legend(): Displays the legend to distinguish between training and validation loss.\n",
        "* plt.title('Training and Validation Loss'): Adds a title to the plot.\n",
        "* plt.show(): Displays the plot."
      ],
      "metadata": {
        "id": "Zb19UgbDAaDN"
      }
    },
    {
      "cell_type": "code",
      "source": [
        "import matplotlib.pyplot as plt\n",
        "\n",
        "# Plot loss values\n",
        "\n",
        "plt.plot(history.history['loss'], label ='Training loss')\n",
        "plt.plot(history.history['val_loss'], label='Validation loss')\n",
        "plt.xlabel('Epochs')\n",
        "plt.ylabel('Loss')\n",
        "plt.legend()\n",
        "plt.title('Training and Validation Loss')\n",
        "plt.show()"
      ],
      "metadata": {
        "colab": {
          "base_uri": "https://localhost:8080/",
          "height": 472
        },
        "id": "j5XDJxIKAdEc",
        "outputId": "dadc2d37-65a3-48be-a396-64e8b5f84c23"
      },
      "execution_count": 18,
      "outputs": [
        {
          "output_type": "display_data",
          "data": {
            "text/plain": [
              "<Figure size 640x480 with 1 Axes>"
            ],
            "image/png": "[encoded data removed]"
          },
          "metadata": {}
        }
      ]
    }
  ]
}